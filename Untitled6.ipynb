{
  "nbformat": 4,
  "nbformat_minor": 0,
  "metadata": {
    "colab": {
      "provenance": [],
      "authorship_tag": "ABX9TyP6XocHXLBC4vPN5duOWHZL",
      "include_colab_link": true
    },
    "kernelspec": {
      "name": "python3",
      "display_name": "Python 3"
    },
    "language_info": {
      "name": "python"
    }
  },
  "cells": [
    {
      "cell_type": "markdown",
      "metadata": {
        "id": "view-in-github",
        "colab_type": "text"
      },
      "source": [
        "<a href=\"https://colab.research.google.com/github/bollagopi/chatbot/blob/main/Untitled6.ipynb\" target=\"_parent\"><img src=\"https://colab.research.google.com/assets/colab-badge.svg\" alt=\"Open In Colab\"/></a>"
      ]
    },
    {
      "cell_type": "code",
      "execution_count": 5,
      "metadata": {
        "id": "SpzmAVQ9LjZv"
      },
      "outputs": [],
      "source": [
        "import numpy as np\n",
        "import time\n",
        "import os\n",
        "from transformers import AutoModelForCausalLM, AutoTokenizer\n",
        "import torch\n"
      ]
    },
    {
      "cell_type": "code",
      "source": [
        "class ChatBot():\n",
        "    def __init__(self):\n",
        "        self.chat_history_ids = None\n",
        "        self.bot_input_ids = None\n",
        "        self.end_chat = False\n",
        "        self.welcome()\n",
        "\n",
        "    def welcome(self):\n",
        "        print(\"Initializing ChatBot ...\")\n",
        "        time.sleep(2)\n",
        "        print('Type \"bye\" or \"quit\" or \"exit\" to end chat \\n')\n",
        "\n",
        "        time.sleep(3)\n",
        "        greeting = np.random.choice([\n",
        "            \"Welcome, I am ChatBot, here for your kind service\",\n",
        "            \"Hey, Great day! I am your virtual assistant\",\n",
        "            \"Hello, it's my pleasure meeting you\",\n",
        "            \"Hi, I am a ChatBot. Let's chat!\"\n",
        "        ])\n",
        "        print(\"ChatBot >>  \" + greeting)\n",
        "\n",
        "    def user_input(self):\n",
        "        text = input(\"User    >> \")\n",
        "        if text.lower().strip() in ['bye', 'quit', 'exit']:\n",
        "            self.end_chat=True\n",
        "            print('ChatBot >>  See you soon! Bye!')\n",
        "            time.sleep(1)\n",
        "            print('\\nQuitting ChatBot ...')\n",
        "        else:\n",
        "            self.new_user_input_ids = tokenizer.encode(text + tokenizer.eos_token, \\\n",
        "                                                       return_tensors='pt')\n",
        "\n",
        "    def bot_response(self):\n",
        "        if self.chat_history_ids is not None:\n",
        "            self.bot_input_ids = torch.cat([self.chat_history_ids, self.new_user_input_ids], dim=-1)\n",
        "        else:\n",
        "            self.bot_input_ids = self.new_user_input_ids\n",
        "        self.chat_history_ids = model.generate(self.bot_input_ids, max_length=1000, \\\n",
        "                                               pad_token_id=tokenizer.eos_token_id)\n",
        "        response = tokenizer.decode(self.chat_history_ids[:, self.bot_input_ids.shape[-1]:][0], \\\n",
        "                               skip_special_tokens=True)\n",
        "        if response == \"\":\n",
        "            response = self.random_response()\n",
        "        print('ChatBot >>  '+ response)\n",
        "    def random_response(self):\n",
        "        i = -1\n",
        "        response = tokenizer.decode(self.chat_history_ids[:, self.bot_input_ids.shape[i]:][0], \\\n",
        "                               skip_special_tokens=True)\n",
        "        while response == '':\n",
        "            i = i-1\n",
        "            response = tokenizer.decode(self.chat_history_ids[:, self.bot_input_ids.shape[i]:][0], \\\n",
        "                               skip_special_tokens=True)\n",
        "        if response.strip() == '?':\n",
        "            reply = np.random.choice([\"I don't know\",\n",
        "                                     \"I am not sure\"])\n",
        "        else:\n",
        "            reply = np.random.choice([\"Great\",\n",
        "                                      \"Fine. What's up?\",\n",
        "                                      \"Okay\"\n",
        "                                     ])\n",
        "        return reply"
      ],
      "metadata": {
        "id": "mamB-YXaLsTb"
      },
      "execution_count": 6,
      "outputs": []
    },
    {
      "cell_type": "code",
      "source": [
        "bot = ChatBot()\n",
        "while True:\n",
        "    bot.user_input()\n",
        "    if bot.end_chat:\n",
        "        break\n",
        "    bot.bot_response()"
      ],
      "metadata": {
        "colab": {
          "base_uri": "https://localhost:8080/",
          "height": 0
        },
        "id": "vt8NgMPTL0Ho",
        "outputId": "b344c662-a7a4-431b-c087-e6b9b81f92d9"
      },
      "execution_count": 7,
      "outputs": [
        {
          "output_type": "stream",
          "name": "stdout",
          "text": [
            "Initializing ChatBot ...\n",
            "Type \"bye\" or \"quit\" or \"exit\" to end chat \n",
            "\n",
            "ChatBot >>  Hi, I am a ChatBot. Let's chat!\n",
            "User    >> bye\n",
            "ChatBot >>  See you soon! Bye!\n",
            "\n",
            "Quitting ChatBot ...\n"
          ]
        }
      ]
    }
  ]
}